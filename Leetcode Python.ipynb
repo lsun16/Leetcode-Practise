{
 "cells": [
  {
   "cell_type": "markdown",
   "metadata": {},
   "source": [
    "### 1. Two Sum\n",
    "Given an array of integers nums and an integer target, return indices of the two numbers such that they add up to target.\n",
    "You may assume that each input would have exactly one solution, and you may not use the same element twice.\n",
    "You can return the answer in any order."
   ]
  },
  {
   "cell_type": "code",
   "execution_count": 15,
   "metadata": {},
   "outputs": [],
   "source": [
    "class Solution(object):\n",
    "    def twoSum(self, nums, target):\n",
    "        \"\"\"\n",
    "        :type nums: List[int]\n",
    "        :type target: int\n",
    "        :rtype: List[int]\n",
    "        \"\"\"\n",
    "        out = []\n",
    "        for i in range(0, len(nums)):\n",
    "            d = 1\n",
    "            while i+d <= len(nums) - 1 and len(out) == 0:\n",
    "                if nums[i] + nums[i+d] == target:\n",
    "                    out = [i, i+d]\n",
    "                else: \n",
    "                    d += 1\n",
    "        return out"
   ]
  },
  {
   "cell_type": "code",
   "execution_count": 17,
   "metadata": {},
   "outputs": [
    {
     "data": {
      "text/plain": [
       "[0, 3]"
      ]
     },
     "execution_count": 17,
     "metadata": {},
     "output_type": "execute_result"
    }
   ],
   "source": [
    "nums = [2,3,4,5,6,7]\n",
    "target = 7\n",
    "Solution().twoSum(nums, target)"
   ]
  },
  {
   "cell_type": "markdown",
   "metadata": {},
   "source": [
    "### 2. Reverse Integer\n",
    "Given a 32-bit signed integer, reverse digits of an integer.\n",
    "Note:\n",
    "Assume we are dealing with an environment that could only store integers within the 32-bit signed integer range: [−231,  231 − 1]. For the purpose of this problem, assume that your function returns 0 when the reversed integer overflows."
   ]
  },
  {
   "cell_type": "code",
   "execution_count": 146,
   "metadata": {},
   "outputs": [],
   "source": [
    "class Solution(object):\n",
    "    def reverse(self, x):\n",
    "        \"\"\"\n",
    "        :type x: int\n",
    "        :rtype: int\n",
    "        \"\"\"\n",
    "         \n",
    "        negative_sign=True if x < 0 or x ==0 else False\n",
    "        str_x = str(abs(x))\n",
    "        out = int(str_x[::-1])\n",
    "        if out > 2**31:\n",
    "            out = 0\n",
    "        if negative_sign:\n",
    "            out = out * -1\n",
    "        return out"
   ]
  },
  {
   "cell_type": "markdown",
   "metadata": {},
   "source": [
    "### 3. Palindrome Number\n",
    "Determine whether an integer is a palindrome. An integer is a palindrome when it reads the same backward as forward."
   ]
  },
  {
   "cell_type": "code",
   "execution_count": null,
   "metadata": {},
   "outputs": [],
   "source": [
    "class Solution(object):\n",
    "    def isPalindrome(self, x):\n",
    "        \"\"\"\n",
    "        :type x: int\n",
    "        :rtype: bool\n",
    "        \"\"\"\n",
    "        if x < 0:\n",
    "            return False\n",
    "        if x >= 0:\n",
    "            if int(str(x)[::-1]) == x:\n",
    "                out = True\n",
    "            else:\n",
    "                out = False\n",
    "            return out         "
   ]
  },
  {
   "cell_type": "code",
   "execution_count": 165,
   "metadata": {},
   "outputs": [],
   "source": [
    "\n",
    "def addTwoNumbers(l1, l2):\n",
    "    \"\"\"\n",
    "    :type l1: ListNode\n",
    "    :type l2: ListNode\n",
    "    :rtype: ListNode\n",
    "    \"\"\"\n",
    "    len_diff=max(len(l1), len(l2)) - min(len(l1), len(l2))\n",
    "    if len(l1) < len(l2):\n",
    "        l1.extend\n",
    "    \n",
    "    out = []\n",
    "    d = []\n",
    "    for i,j in zip(range(0, len(l1)), range(0, len(l2))):\n",
    "        if l1[i] + l2[i] <10:\n",
    "            d.extend([0])\n",
    "            out.extend([l1[i] + l2[i]])\n",
    "        else:\n",
    "            d.extend([1])\n",
    "            out.extend([l1[i] + l2[i] - 10])\n",
    "    return out, d"
   ]
  },
  {
   "cell_type": "code",
   "execution_count": 166,
   "metadata": {},
   "outputs": [],
   "source": [
    "l1 = [0,2,3,4,5]\n",
    "l2 = [3,9, 2]\n",
    "out, d = addTwoNumbers(l1, l2)"
   ]
  },
  {
   "cell_type": "code",
   "execution_count": null,
   "metadata": {},
   "outputs": [],
   "source": []
  }
 ],
 "metadata": {
  "kernelspec": {
   "display_name": "Python 3",
   "language": "python",
   "name": "python3"
  },
  "language_info": {
   "codemirror_mode": {
    "name": "ipython",
    "version": 3
   },
   "file_extension": ".py",
   "mimetype": "text/x-python",
   "name": "python",
   "nbconvert_exporter": "python",
   "pygments_lexer": "ipython3",
   "version": "3.7.2"
  }
 },
 "nbformat": 4,
 "nbformat_minor": 2
}
